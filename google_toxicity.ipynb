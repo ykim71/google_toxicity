{
  "nbformat": 4,
  "nbformat_minor": 0,
  "metadata": {
    "colab": {
      "name": "google_toxicity.ipynb",
      "provenance": [],
      "collapsed_sections": [],
      "authorship_tag": "ABX9TyOTY561ZS9DUUI5/kPNVh6g",
      "include_colab_link": true
    },
    "kernelspec": {
      "name": "python3",
      "display_name": "Python 3"
    },
    "language_info": {
      "name": "python"
    }
  },
  "cells": [
    {
      "cell_type": "markdown",
      "metadata": {
        "id": "view-in-github",
        "colab_type": "text"
      },
      "source": [
        "<a href=\"https://colab.research.google.com/github/ykim71/google_toxicity/blob/main/google_toxicity.ipynb\" target=\"_parent\"><img src=\"https://colab.research.google.com/assets/colab-badge.svg\" alt=\"Open In Colab\"/></a>"
      ]
    },
    {
      "cell_type": "markdown",
      "source": [
        "# Load File (can be done locally)"
      ],
      "metadata": {
        "id": "Wpw-Dc2k_QCk"
      }
    },
    {
      "cell_type": "code",
      "source": [
        "from google.colab import drive\n",
        "\n",
        "drive.mount(\"/content/drive\")"
      ],
      "metadata": {
        "colab": {
          "base_uri": "https://localhost:8080/"
        },
        "id": "c4FeFkFk_PvG",
        "outputId": "cfdd70ca-3fc8-4746-cc4c-7bcf5534bb6b"
      },
      "execution_count": 2,
      "outputs": [
        {
          "output_type": "stream",
          "name": "stdout",
          "text": [
            "Mounted at /content/drive\n"
          ]
        }
      ]
    },
    {
      "cell_type": "code",
      "source": [
        "%cd drive/'MyDrive'/toxicity/"
      ],
      "metadata": {
        "colab": {
          "base_uri": "https://localhost:8080/"
        },
        "id": "fdkG7ITv_boR",
        "outputId": "133db578-aada-4024-a921-63b0cd4f3441"
      },
      "execution_count": 3,
      "outputs": [
        {
          "output_type": "stream",
          "name": "stdout",
          "text": [
            "/content/drive/MyDrive/toxicity\n"
          ]
        }
      ]
    },
    {
      "cell_type": "markdown",
      "source": [
        "## load file from local"
      ],
      "metadata": {
        "id": "n8btIXXMtMEV"
      }
    },
    {
      "cell_type": "code",
      "source": [
        "from google.colab import files\n",
        "\n",
        "uploaded = files.upload()\n"
      ],
      "metadata": {
        "id": "PaNf-60XtKi2"
      },
      "execution_count": null,
      "outputs": []
    },
    {
      "cell_type": "markdown",
      "source": [
        "# Perpective API toxicity \n",
        "\n",
        "\n",
        "\n",
        "> Language Attributes: https://developers.perspectiveapi.com/s/about-the-api-attributes-and-languages\n",
        "\n",
        "\n",
        "\n",
        "> API Request: https://developers.perspectiveapi.com/s/docs-get-started (note UT Google Account may not work; recommend using personal Google account for request)\n",
        "\n"
      ],
      "metadata": {
        "id": "LCfdQi8w9whT"
      }
    },
    {
      "cell_type": "code",
      "execution_count": 4,
      "metadata": {
        "id": "Uf-Tz2kX8vXb"
      },
      "outputs": [],
      "source": [
        "\n",
        "from googleapiclient import discovery\n",
        "from googleapiclient.errors import HttpError\n"
      ]
    },
    {
      "cell_type": "code",
      "source": [
        "API_KEY='YOUR-API-KEY'\n"
      ],
      "metadata": {
        "id": "Bwd15Ba5812-"
      },
      "execution_count": 5,
      "outputs": []
    },
    {
      "cell_type": "code",
      "source": [
        "\n",
        "# variable descriptions: https://github.com/conversationai/perspectiveapi\n",
        "# you can replace toxicity attributes here:\n",
        "analyze_request = {\n",
        "   'comment': { 'text': 'xx'}, # setting formats (id, text)\n",
        "   'requestedAttributes': {'TOXICITY@6': {}, # see the actual variable name from the Perspective API page\n",
        "                           'LIKELY_TO_REJECT@2': {}, \n",
        "                           'INSULT': {}, \n",
        "                           'IDENTITY_ATTACK': {} \n",
        "                           },\n",
        "   'doNotStore': True, # for other settings, https://developers.perspectiveapi.com/s/about-the-api-methods\n",
        "}\n",
        "\n"
      ],
      "metadata": {
        "id": "FVMN-CHJ8-Yx"
      },
      "execution_count": 6,
      "outputs": []
    },
    {
      "cell_type": "code",
      "source": [
        "import pandas as pd\n",
        "\n",
        "sample_text = pd.read_csv('sample_code_review.csv')\n"
      ],
      "metadata": {
        "id": "4pwWhsgr_J89"
      },
      "execution_count": 7,
      "outputs": []
    },
    {
      "cell_type": "code",
      "source": [
        "# take random 3 samples to see if data has loaded successfully; 'text' is the column that you want to analyze\n",
        "\n",
        "sample_text.sample(3)"
      ],
      "metadata": {
        "colab": {
          "base_uri": "https://localhost:8080/",
          "height": 143
        },
        "id": "QyQmtC_MRH6G",
        "outputId": "a0db1e6c-bd82-41b4-bf92-1c1b86a169ea"
      },
      "execution_count": 8,
      "outputs": [
        {
          "output_type": "execute_result",
          "data": {
            "text/html": [
              "\n",
              "  <div id=\"df-cef840b5-ee21-45d0-aae8-a7f14c2bd764\">\n",
              "    <div class=\"colab-df-container\">\n",
              "      <div>\n",
              "<style scoped>\n",
              "    .dataframe tbody tr th:only-of-type {\n",
              "        vertical-align: middle;\n",
              "    }\n",
              "\n",
              "    .dataframe tbody tr th {\n",
              "        vertical-align: top;\n",
              "    }\n",
              "\n",
              "    .dataframe thead th {\n",
              "        text-align: right;\n",
              "    }\n",
              "</style>\n",
              "<table border=\"1\" class=\"dataframe\">\n",
              "  <thead>\n",
              "    <tr style=\"text-align: right;\">\n",
              "      <th></th>\n",
              "      <th>uid_sample</th>\n",
              "      <th>text</th>\n",
              "    </tr>\n",
              "  </thead>\n",
              "  <tbody>\n",
              "    <tr>\n",
              "      <th>14</th>\n",
              "      <td>1483</td>\n",
              "      <td>Feel good piece. Father And Son Graduate Moreh...</td>\n",
              "    </tr>\n",
              "    <tr>\n",
              "      <th>0</th>\n",
              "      <td>921</td>\n",
              "      <td>A little bit of American truth? Mike Pence: Th...</td>\n",
              "    </tr>\n",
              "    <tr>\n",
              "      <th>18</th>\n",
              "      <td>1498</td>\n",
              "      <td>Left Action  Fight back, and tell Boehner &amp; M...</td>\n",
              "    </tr>\n",
              "  </tbody>\n",
              "</table>\n",
              "</div>\n",
              "      <button class=\"colab-df-convert\" onclick=\"convertToInteractive('df-cef840b5-ee21-45d0-aae8-a7f14c2bd764')\"\n",
              "              title=\"Convert this dataframe to an interactive table.\"\n",
              "              style=\"display:none;\">\n",
              "        \n",
              "  <svg xmlns=\"http://www.w3.org/2000/svg\" height=\"24px\"viewBox=\"0 0 24 24\"\n",
              "       width=\"24px\">\n",
              "    <path d=\"M0 0h24v24H0V0z\" fill=\"none\"/>\n",
              "    <path d=\"M18.56 5.44l.94 2.06.94-2.06 2.06-.94-2.06-.94-.94-2.06-.94 2.06-2.06.94zm-11 1L8.5 8.5l.94-2.06 2.06-.94-2.06-.94L8.5 2.5l-.94 2.06-2.06.94zm10 10l.94 2.06.94-2.06 2.06-.94-2.06-.94-.94-2.06-.94 2.06-2.06.94z\"/><path d=\"M17.41 7.96l-1.37-1.37c-.4-.4-.92-.59-1.43-.59-.52 0-1.04.2-1.43.59L10.3 9.45l-7.72 7.72c-.78.78-.78 2.05 0 2.83L4 21.41c.39.39.9.59 1.41.59.51 0 1.02-.2 1.41-.59l7.78-7.78 2.81-2.81c.8-.78.8-2.07 0-2.86zM5.41 20L4 18.59l7.72-7.72 1.47 1.35L5.41 20z\"/>\n",
              "  </svg>\n",
              "      </button>\n",
              "      \n",
              "  <style>\n",
              "    .colab-df-container {\n",
              "      display:flex;\n",
              "      flex-wrap:wrap;\n",
              "      gap: 12px;\n",
              "    }\n",
              "\n",
              "    .colab-df-convert {\n",
              "      background-color: #E8F0FE;\n",
              "      border: none;\n",
              "      border-radius: 50%;\n",
              "      cursor: pointer;\n",
              "      display: none;\n",
              "      fill: #1967D2;\n",
              "      height: 32px;\n",
              "      padding: 0 0 0 0;\n",
              "      width: 32px;\n",
              "    }\n",
              "\n",
              "    .colab-df-convert:hover {\n",
              "      background-color: #E2EBFA;\n",
              "      box-shadow: 0px 1px 2px rgba(60, 64, 67, 0.3), 0px 1px 3px 1px rgba(60, 64, 67, 0.15);\n",
              "      fill: #174EA6;\n",
              "    }\n",
              "\n",
              "    [theme=dark] .colab-df-convert {\n",
              "      background-color: #3B4455;\n",
              "      fill: #D2E3FC;\n",
              "    }\n",
              "\n",
              "    [theme=dark] .colab-df-convert:hover {\n",
              "      background-color: #434B5C;\n",
              "      box-shadow: 0px 1px 3px 1px rgba(0, 0, 0, 0.15);\n",
              "      filter: drop-shadow(0px 1px 2px rgba(0, 0, 0, 0.3));\n",
              "      fill: #FFFFFF;\n",
              "    }\n",
              "  </style>\n",
              "\n",
              "      <script>\n",
              "        const buttonEl =\n",
              "          document.querySelector('#df-cef840b5-ee21-45d0-aae8-a7f14c2bd764 button.colab-df-convert');\n",
              "        buttonEl.style.display =\n",
              "          google.colab.kernel.accessAllowed ? 'block' : 'none';\n",
              "\n",
              "        async function convertToInteractive(key) {\n",
              "          const element = document.querySelector('#df-cef840b5-ee21-45d0-aae8-a7f14c2bd764');\n",
              "          const dataTable =\n",
              "            await google.colab.kernel.invokeFunction('convertToInteractive',\n",
              "                                                     [key], {});\n",
              "          if (!dataTable) return;\n",
              "\n",
              "          const docLinkHtml = 'Like what you see? Visit the ' +\n",
              "            '<a target=\"_blank\" href=https://colab.research.google.com/notebooks/data_table.ipynb>data table notebook</a>'\n",
              "            + ' to learn more about interactive tables.';\n",
              "          element.innerHTML = '';\n",
              "          dataTable['output_type'] = 'display_data';\n",
              "          await google.colab.output.renderOutput(dataTable, element);\n",
              "          const docLink = document.createElement('div');\n",
              "          docLink.innerHTML = docLinkHtml;\n",
              "          element.appendChild(docLink);\n",
              "        }\n",
              "      </script>\n",
              "    </div>\n",
              "  </div>\n",
              "  "
            ],
            "text/plain": [
              "    uid_sample                                               text\n",
              "14        1483  Feel good piece. Father And Son Graduate Moreh...\n",
              "0          921  A little bit of American truth? Mike Pence: Th...\n",
              "18        1498   Left Action  Fight back, and tell Boehner & M..."
            ]
          },
          "metadata": {},
          "execution_count": 8
        }
      ]
    },
    {
      "cell_type": "code",
      "source": [
        "# setting global variables; setting the column name from the dataset; \n",
        "\n",
        "TEXT = 'text' "
      ],
      "metadata": {
        "id": "7T9y-rHMu3HQ"
      },
      "execution_count": 11,
      "outputs": []
    },
    {
      "cell_type": "code",
      "source": [
        "import csv\n",
        "import codecs\n",
        "import json\n",
        "import time\n",
        "import pandas as pd\n",
        "\n",
        "# setting attributes, can add more attiributes \n",
        "\n",
        "service = discovery.build('commentanalyzer', 'v1alpha1', developerKey=API_KEY)\n",
        "\n",
        "start = time.time()\n",
        "\n",
        "comments_toxicity_list = []\n",
        "comments_reject_list = []\n",
        "comments_insult_list = []\n",
        "comments_identity_list = []\n",
        "\n",
        "for i in sample_text[TEXT].values.tolist(): \n",
        "  analyze_request['comment']['text'] = i\n",
        "  \n",
        "  try:\n",
        "    response = service.comments().analyze(body=analyze_request).execute()\n",
        "    i = json.loads(json.dumps(response, indent=2))\n",
        "    \n",
        "    comments_toxicity = i['attributeScores']['TOXICITY@6']['summaryScore']['value']\n",
        "    comments_reject = i['attributeScores']['LIKELY_TO_REJECT@2']['summaryScore']['value']\n",
        "    comments_insult = i['attributeScores']['INSULT']['summaryScore']['value']\n",
        "    comments_identity = i['attributeScores']['IDENTITY_ATTACK']['summaryScore']['value']\n",
        "        \n",
        "  except HttpError:\n",
        "    comments_toxicity = \"error\"\n",
        "    comments_reject = \"error\"\n",
        "    comments_insult = \"error\"\n",
        "    comments_identity = \"error\"\n",
        "            \n",
        "  comments_toxicity_list.append(comments_toxicity)\n",
        "  comments_reject_list.append(comments_reject)\n",
        "  comments_insult_list.append(comments_insult)\n",
        "  comments_identity_list.append(comments_identity)\n",
        "        \n",
        "sample_text = sample_text.join(pd.DataFrame({'toxicity': comments_toxicity_list, \n",
        "                                             'reject': comments_reject_list, \n",
        "                                             'insult': comments_insult_list, \n",
        "                                             'attack': comments_identity_list}))\n",
        "\n",
        "end=time.time()\n",
        "print(\"complete time: \", round(end -start, 2))"
      ],
      "metadata": {
        "colab": {
          "base_uri": "https://localhost:8080/"
        },
        "id": "TxhiPuZV_GqW",
        "outputId": "695a65e5-8389-43fa-ddd3-f8d07c05c89d"
      },
      "execution_count": 13,
      "outputs": [
        {
          "output_type": "stream",
          "name": "stdout",
          "text": [
            "complete time:  0.88\n"
          ]
        }
      ]
    },
    {
      "cell_type": "code",
      "source": [
        "sample_text.sample(3)"
      ],
      "metadata": {
        "id": "6NZUPkTYvlLs",
        "outputId": "b5baeea7-2d83-45e1-e505-d3ba8678899e",
        "colab": {
          "base_uri": "https://localhost:8080/",
          "height": 143
        }
      },
      "execution_count": 14,
      "outputs": [
        {
          "output_type": "execute_result",
          "data": {
            "text/html": [
              "\n",
              "  <div id=\"df-875b423e-8f02-4c26-b5af-5ce1d741a4ee\">\n",
              "    <div class=\"colab-df-container\">\n",
              "      <div>\n",
              "<style scoped>\n",
              "    .dataframe tbody tr th:only-of-type {\n",
              "        vertical-align: middle;\n",
              "    }\n",
              "\n",
              "    .dataframe tbody tr th {\n",
              "        vertical-align: top;\n",
              "    }\n",
              "\n",
              "    .dataframe thead th {\n",
              "        text-align: right;\n",
              "    }\n",
              "</style>\n",
              "<table border=\"1\" class=\"dataframe\">\n",
              "  <thead>\n",
              "    <tr style=\"text-align: right;\">\n",
              "      <th></th>\n",
              "      <th>uid_sample</th>\n",
              "      <th>text</th>\n",
              "      <th>toxicity</th>\n",
              "      <th>reject</th>\n",
              "      <th>insult</th>\n",
              "      <th>attack</th>\n",
              "    </tr>\n",
              "  </thead>\n",
              "  <tbody>\n",
              "    <tr>\n",
              "      <th>0</th>\n",
              "      <td>921</td>\n",
              "      <td>A little bit of American truth? Mike Pence: Th...</td>\n",
              "      <td>0.277589</td>\n",
              "      <td>0.836571</td>\n",
              "      <td>0.118428</td>\n",
              "      <td>0.213282</td>\n",
              "    </tr>\n",
              "    <tr>\n",
              "      <th>16</th>\n",
              "      <td>1486</td>\n",
              "      <td>During an interview with CNBC on Wednesday, Tr...</td>\n",
              "      <td>0.041074</td>\n",
              "      <td>0.331779</td>\n",
              "      <td>0.126426</td>\n",
              "      <td>0.021339</td>\n",
              "    </tr>\n",
              "    <tr>\n",
              "      <th>20</th>\n",
              "      <td>1819</td>\n",
              "      <td>Gonna leave this one right here AFROPUNK  üôà...</td>\n",
              "      <td>0.153451</td>\n",
              "      <td>0.973788</td>\n",
              "      <td>0.262546</td>\n",
              "      <td>0.448278</td>\n",
              "    </tr>\n",
              "  </tbody>\n",
              "</table>\n",
              "</div>\n",
              "      <button class=\"colab-df-convert\" onclick=\"convertToInteractive('df-875b423e-8f02-4c26-b5af-5ce1d741a4ee')\"\n",
              "              title=\"Convert this dataframe to an interactive table.\"\n",
              "              style=\"display:none;\">\n",
              "        \n",
              "  <svg xmlns=\"http://www.w3.org/2000/svg\" height=\"24px\"viewBox=\"0 0 24 24\"\n",
              "       width=\"24px\">\n",
              "    <path d=\"M0 0h24v24H0V0z\" fill=\"none\"/>\n",
              "    <path d=\"M18.56 5.44l.94 2.06.94-2.06 2.06-.94-2.06-.94-.94-2.06-.94 2.06-2.06.94zm-11 1L8.5 8.5l.94-2.06 2.06-.94-2.06-.94L8.5 2.5l-.94 2.06-2.06.94zm10 10l.94 2.06.94-2.06 2.06-.94-2.06-.94-.94-2.06-.94 2.06-2.06.94z\"/><path d=\"M17.41 7.96l-1.37-1.37c-.4-.4-.92-.59-1.43-.59-.52 0-1.04.2-1.43.59L10.3 9.45l-7.72 7.72c-.78.78-.78 2.05 0 2.83L4 21.41c.39.39.9.59 1.41.59.51 0 1.02-.2 1.41-.59l7.78-7.78 2.81-2.81c.8-.78.8-2.07 0-2.86zM5.41 20L4 18.59l7.72-7.72 1.47 1.35L5.41 20z\"/>\n",
              "  </svg>\n",
              "      </button>\n",
              "      \n",
              "  <style>\n",
              "    .colab-df-container {\n",
              "      display:flex;\n",
              "      flex-wrap:wrap;\n",
              "      gap: 12px;\n",
              "    }\n",
              "\n",
              "    .colab-df-convert {\n",
              "      background-color: #E8F0FE;\n",
              "      border: none;\n",
              "      border-radius: 50%;\n",
              "      cursor: pointer;\n",
              "      display: none;\n",
              "      fill: #1967D2;\n",
              "      height: 32px;\n",
              "      padding: 0 0 0 0;\n",
              "      width: 32px;\n",
              "    }\n",
              "\n",
              "    .colab-df-convert:hover {\n",
              "      background-color: #E2EBFA;\n",
              "      box-shadow: 0px 1px 2px rgba(60, 64, 67, 0.3), 0px 1px 3px 1px rgba(60, 64, 67, 0.15);\n",
              "      fill: #174EA6;\n",
              "    }\n",
              "\n",
              "    [theme=dark] .colab-df-convert {\n",
              "      background-color: #3B4455;\n",
              "      fill: #D2E3FC;\n",
              "    }\n",
              "\n",
              "    [theme=dark] .colab-df-convert:hover {\n",
              "      background-color: #434B5C;\n",
              "      box-shadow: 0px 1px 3px 1px rgba(0, 0, 0, 0.15);\n",
              "      filter: drop-shadow(0px 1px 2px rgba(0, 0, 0, 0.3));\n",
              "      fill: #FFFFFF;\n",
              "    }\n",
              "  </style>\n",
              "\n",
              "      <script>\n",
              "        const buttonEl =\n",
              "          document.querySelector('#df-875b423e-8f02-4c26-b5af-5ce1d741a4ee button.colab-df-convert');\n",
              "        buttonEl.style.display =\n",
              "          google.colab.kernel.accessAllowed ? 'block' : 'none';\n",
              "\n",
              "        async function convertToInteractive(key) {\n",
              "          const element = document.querySelector('#df-875b423e-8f02-4c26-b5af-5ce1d741a4ee');\n",
              "          const dataTable =\n",
              "            await google.colab.kernel.invokeFunction('convertToInteractive',\n",
              "                                                     [key], {});\n",
              "          if (!dataTable) return;\n",
              "\n",
              "          const docLinkHtml = 'Like what you see? Visit the ' +\n",
              "            '<a target=\"_blank\" href=https://colab.research.google.com/notebooks/data_table.ipynb>data table notebook</a>'\n",
              "            + ' to learn more about interactive tables.';\n",
              "          element.innerHTML = '';\n",
              "          dataTable['output_type'] = 'display_data';\n",
              "          await google.colab.output.renderOutput(dataTable, element);\n",
              "          const docLink = document.createElement('div');\n",
              "          docLink.innerHTML = docLinkHtml;\n",
              "          element.appendChild(docLink);\n",
              "        }\n",
              "      </script>\n",
              "    </div>\n",
              "  </div>\n",
              "  "
            ],
            "text/plain": [
              "    uid_sample  ...    attack\n",
              "0          921  ...  0.213282\n",
              "16        1486  ...  0.021339\n",
              "20        1819  ...  0.448278\n",
              "\n",
              "[3 rows x 6 columns]"
            ]
          },
          "metadata": {},
          "execution_count": 14
        }
      ]
    },
    {
      "cell_type": "code",
      "source": [
        "sample_text.to_csv('toxicity.csv')"
      ],
      "metadata": {
        "id": "gu8zYzboAzcL"
      },
      "execution_count": null,
      "outputs": []
    },
    {
      "cell_type": "code",
      "source": [
        ""
      ],
      "metadata": {
        "id": "t3wI5SdlPxVg"
      },
      "execution_count": null,
      "outputs": []
    }
  ]
}