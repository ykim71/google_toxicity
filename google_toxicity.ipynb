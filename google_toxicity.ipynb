{
  "nbformat": 4,
  "nbformat_minor": 0,
  "metadata": {
    "colab": {
      "name": "google_toxicity.ipynb",
      "provenance": [],
      "collapsed_sections": [],
      "authorship_tag": "ABX9TyMDsMPs5ihA2Ww/HkrUACBU",
      "include_colab_link": true
    },
    "kernelspec": {
      "name": "python3",
      "display_name": "Python 3"
    },
    "language_info": {
      "name": "python"
    }
  },
  "cells": [
    {
      "cell_type": "markdown",
      "metadata": {
        "id": "view-in-github",
        "colab_type": "text"
      },
      "source": [
        "<a href=\"https://colab.research.google.com/github/ykim71/google_toxicity/blob/main/google_toxicity.ipynb\" target=\"_parent\"><img src=\"https://colab.research.google.com/assets/colab-badge.svg\" alt=\"Open In Colab\"/></a>"
      ]
    },
    {
      "cell_type": "markdown",
      "source": [
        "# Load File via GDrive\n",
        "\n"
      ],
      "metadata": {
        "id": "Wpw-Dc2k_QCk"
      }
    },
    {
      "cell_type": "code",
      "source": [
        "\"\"\"\n",
        "Run this code and it will bring your Google account access permission. \n",
        "This gives Colab direct access for any files in your Google Drive.\n",
        "OR, upload file from local\n",
        "\"\"\"\n",
        "from google.colab import drive\n",
        "\n",
        "drive.mount(\"/content/drive\")"
      ],
      "metadata": {
        "colab": {
          "base_uri": "https://localhost:8080/"
        },
        "id": "c4FeFkFk_PvG",
        "outputId": "f48d6a34-afbd-499a-f6c7-c5a8de9295e0"
      },
      "execution_count": 1,
      "outputs": [
        {
          "output_type": "stream",
          "name": "stdout",
          "text": [
            "Mounted at /content/drive\n"
          ]
        }
      ]
    },
    {
      "cell_type": "code",
      "source": [
        "\"\"\"\n",
        "This code changes your working directory that Colab is on. I created and set 'toxicity' folder in my Google Drive. \n",
        "I can load and save data on the 'toxicity' folder in my Google Drive\n",
        "\"\"\"\n",
        "%cd drive/'MyDrive'/toxicity/"
      ],
      "metadata": {
        "colab": {
          "base_uri": "https://localhost:8080/"
        },
        "id": "fdkG7ITv_boR",
        "outputId": "987e913a-0bbd-4881-914e-1d27aee57336"
      },
      "execution_count": 2,
      "outputs": [
        {
          "output_type": "stream",
          "name": "stdout",
          "text": [
            "/content/drive/MyDrive/toxicity\n"
          ]
        }
      ]
    },
    {
      "cell_type": "markdown",
      "source": [
        "## load your file to Colab"
      ],
      "metadata": {
        "id": "SFAz7fxU3013"
      }
    },
    {
      "cell_type": "code",
      "source": [
        "\"\"\"\n",
        "load your file on Colab using following code. Replace 'sample_code_review.csv' with your file name. \n",
        "I set my data as 'sample_text' so you can replce it other name. \n",
        "\"\"\"\n",
        "\n",
        "import pandas as pd\n",
        "\n",
        "sample_text = pd.read_csv('sample_code_review.csv') # OR, /content/sample_code_review.csv\n"
      ],
      "metadata": {
        "id": "7S6nYYk0320Y"
      },
      "execution_count": 58,
      "outputs": []
    },
    {
      "cell_type": "code",
      "source": [
        "\"\"\"\n",
        "take random 3 samples to see if data has loaded successfully; 'text' is the column that you want to analyze.\n",
        "\"\"\"\n",
        "\n",
        "sample_text.text[1]"
      ],
      "metadata": {
        "colab": {
          "base_uri": "https://localhost:8080/",
          "height": 35
        },
        "id": "QyQmtC_MRH6G",
        "outputId": "b583ac94-c507-47b3-f89b-0685ad1eebdf"
      },
      "execution_count": 35,
      "outputs": [
        {
          "output_type": "execute_result",
          "data": {
            "text/plain": [
              "'Seriously. How Liberals View Gun Violence BRILLIANTLY Illustrated [Cartoon]  Sad but true.'"
            ],
            "application/vnd.google.colaboratory.intrinsic+json": {
              "type": "string"
            }
          },
          "metadata": {},
          "execution_count": 35
        }
      ]
    },
    {
      "cell_type": "markdown",
      "source": [
        "# Perpective API toxicity \n",
        "\n",
        "\n",
        "\n",
        "> Language Attributes: https://developers.perspectiveapi.com/s/about-the-api-attributes-and-languages\n",
        "\n",
        "\n",
        "\n",
        "> API Request: https://developers.perspectiveapi.com/s/docs-get-started (note UT Google Account may not work; recommend using personal Google account for request)\n",
        "\n"
      ],
      "metadata": {
        "id": "LCfdQi8w9whT"
      }
    },
    {
      "cell_type": "code",
      "execution_count": 4,
      "metadata": {
        "id": "Uf-Tz2kX8vXb"
      },
      "outputs": [],
      "source": [
        "\"\"\"\n",
        "load packages/libraries\n",
        "\"\"\"\n",
        "from googleapiclient import discovery\n",
        "from googleapiclient.errors import HttpError\n"
      ]
    },
    {
      "cell_type": "code",
      "source": [
        "\"\"\"\n",
        "Enter your API here;\n",
        "\"\"\"\n",
        "API_KEY='YOUR-API'\n"
      ],
      "metadata": {
        "id": "Bwd15Ba5812-"
      },
      "execution_count": 5,
      "outputs": []
    },
    {
      "cell_type": "code",
      "source": [
        "\"\"\"\n",
        "Run this code if you want to analyze text data 4 measures of Toxicity, Likely to reject, Insult, and Identity Attact. \n",
        "See below comments for other variables and descriptions in detail.\n",
        "\n",
        "\"\"\"\n",
        "# variable descriptions: https://github.com/conversationai/perspectiveapi\n",
        "# you can replace toxicity attributes here:\n",
        "analyze_request = {\n",
        "   'comment': { 'text': 'xx'}, # setting formats (id, text)\n",
        "   'requestedAttributes': {'TOXICITY@6': {}, # see the actual variable name from the Perspective API page\n",
        "                           'LIKELY_TO_REJECT@2': {}, \n",
        "                           'INSULT': {}, \n",
        "                           'IDENTITY_ATTACK': {} \n",
        "                           },\n",
        "   'doNotStore': True, # for other settings, https://developers.perspectiveapi.com/s/about-the-api-methods\n",
        "   'languages' : 'en'\n",
        "}\n",
        "\n"
      ],
      "metadata": {
        "id": "FVMN-CHJ8-Yx"
      },
      "execution_count": 6,
      "outputs": []
    },
    {
      "cell_type": "code",
      "source": [
        "# for a single text\n",
        "import json\n",
        "\n",
        "def incivility_measures(text):\n",
        "  \n",
        "  service = discovery.build('commentanalyzer', 'v1alpha1', developerKey=API_KEY)\n",
        "  analyze_request['comment']['text'] = text\n",
        "  \n",
        "  response = service.comments().analyze(body=analyze_request).execute()\n",
        "  i = json.loads(json.dumps(response, indent=2))\n",
        "  \n",
        "  toxicity = i['attributeScores']['TOXICITY@6']['summaryScore']['value']\n",
        "  reject = i['attributeScores']['LIKELY_TO_REJECT@2']['summaryScore']['value']\n",
        "  insult = i['attributeScores']['INSULT']['summaryScore']['value']\n",
        "  identity = i['attributeScores']['IDENTITY_ATTACK']['summaryScore']['value']\n",
        "  \n",
        "  print(\"text:\" + text + \"\\ntoxicity:\" + str(toxicity) + \"\\nreject:\" + str(reject) + \"\\ninsult:\" + str(insult) + \"\\nidentity:\" + str(identity))\n"
      ],
      "metadata": {
        "id": "q0jj1bcfPt95"
      },
      "execution_count": 40,
      "outputs": []
    },
    {
      "cell_type": "code",
      "source": [
        "\n",
        "text = 'To all those thinking about voting for Trump, remember...  IN YOUR HEART... YOU KNOW HE\\'S SHIT'\n",
        "incivility_measures(text)\n",
        "\n",
        "text = sample_text.text[1]\n",
        "incivility_measures(text)\n"
      ],
      "metadata": {
        "colab": {
          "base_uri": "https://localhost:8080/"
        },
        "id": "nxi-_Z8INQ-L",
        "outputId": "2f8883a8-f40b-4bbe-f360-d54b878bcc36"
      },
      "execution_count": 41,
      "outputs": [
        {
          "output_type": "stream",
          "name": "stdout",
          "text": [
            "text:To all those thinking about voting for Trump, remember...  IN YOUR HEART... YOU KNOW HE'S SHIT\n",
            "toxicity:0.94727516\n",
            "reject:0.99898785\n",
            "insult:0.8301602\n",
            "identity:0.39669684\n",
            "text:Seriously. How Liberals View Gun Violence BRILLIANTLY Illustrated [Cartoon]  Sad but true.\n",
            "toxicity:0.22584276\n",
            "reject:0.5458306\n",
            "insult:0.300508\n",
            "identity:0.23875594\n"
          ]
        }
      ]
    },
    {
      "cell_type": "code",
      "source": [
        "\"\"\"\n",
        "For large text: \n",
        "assign your column name (that contain text data you want to analyze) in the code\n",
        "\"\"\"\n",
        "import csv\n",
        "import codecs\n",
        "import json\n",
        "import time\n",
        "import pandas as pd\n",
        "\n",
        "# setting attributes, can add more attiributes \n",
        "\n",
        "service = discovery.build('commentanalyzer', 'v1alpha1', developerKey=API_KEY)\n",
        "\n",
        "start = time.time()\n",
        "\n",
        "comments_toxicity_list = []\n",
        "comments_reject_list = []\n",
        "comments_insult_list = []\n",
        "comments_identity_list = []\n",
        "\n",
        "\"\"\"\n",
        "HERE is the code you need to chage. My data file name is 'sample_text' and the column name is 'text'. \n",
        "You can change your file and the text column name here.  \n",
        "For other example, if your data name is 'df' and the text columne name is 'comment', \n",
        "the first line of following code is supposed to be:\n",
        "\n",
        "for i in df.comment.values.tolist(): \n",
        "\n",
        "Once you change this code, run this code block.\n",
        "\"\"\"\n",
        "\n",
        "for i in sample_text.text.values.tolist(): \n",
        "  analyze_request['comment']['text'] = i\n",
        "  \n",
        "  try:\n",
        "    response = service.comments().analyze(body=analyze_request).execute()\n",
        "    i = json.loads(json.dumps(response, indent=2))\n",
        "    \n",
        "    comments_toxicity = i['attributeScores']['TOXICITY@6']['summaryScore']['value']\n",
        "    comments_reject = i['attributeScores']['LIKELY_TO_REJECT@2']['summaryScore']['value']\n",
        "    comments_insult = i['attributeScores']['INSULT']['summaryScore']['value']\n",
        "    comments_identity = i['attributeScores']['IDENTITY_ATTACK']['summaryScore']['value']\n",
        "        \n",
        "  except HttpError:\n",
        "    comments_toxicity = \"error\"\n",
        "    comments_reject = \"error\"\n",
        "    comments_insult = \"error\"\n",
        "    comments_identity = \"error\"\n",
        "            \n",
        "  comments_toxicity_list.append(comments_toxicity)\n",
        "  comments_reject_list.append(comments_reject)\n",
        "  comments_insult_list.append(comments_insult)\n",
        "  comments_identity_list.append(comments_identity)\n",
        "        \n",
        "sample_text = sample_text.join(pd.DataFrame({'toxicity': comments_toxicity_list, \n",
        "                                             'reject': comments_reject_list, \n",
        "                                             'insult': comments_insult_list, \n",
        "                                             'attack': comments_identity_list}))\n",
        "\n",
        "end=time.time()\n",
        "print(\"complete time: \", round(end -start, 2))"
      ],
      "metadata": {
        "colab": {
          "base_uri": "https://localhost:8080/"
        },
        "id": "TxhiPuZV_GqW",
        "outputId": "c8b81963-9f56-48bb-eb61-34efe3789ce3"
      },
      "execution_count": 46,
      "outputs": [
        {
          "output_type": "stream",
          "name": "stdout",
          "text": [
            "complete time:  1.05\n"
          ]
        }
      ]
    },
    {
      "cell_type": "code",
      "source": [
        "\"\"\"\n",
        "take random 3 samples to see if data has computed successfully;\n",
        "\"\"\"\n",
        "sample_text.sample(3)"
      ],
      "metadata": {
        "id": "6NZUPkTYvlLs",
        "outputId": "992c6554-e623-4266-e296-789106fa3e05",
        "colab": {
          "base_uri": "https://localhost:8080/",
          "height": 143
        }
      },
      "execution_count": 47,
      "outputs": [
        {
          "output_type": "execute_result",
          "data": {
            "text/plain": [
              "    uid_sample                                               text  toxicity  \\\n",
              "14        1483  Feel good piece. Father And Son Graduate Moreh...  0.044220   \n",
              "21        1820  It's not JUST about his wife. \"t appears [Just...  0.035003   \n",
              "6          933  Feelin the love in Pittsburgh! President Trump...  0.249732   \n",
              "\n",
              "      reject    insult    attack  \n",
              "14  0.429806  0.044253  0.012937  \n",
              "21  0.294459  0.010903  0.008331  \n",
              "6   0.403855  0.169067  0.161117  "
            ],
            "text/html": [
              "\n",
              "  <div id=\"df-9de6ed30-b6b8-41c6-a334-454c611e82e8\">\n",
              "    <div class=\"colab-df-container\">\n",
              "      <div>\n",
              "<style scoped>\n",
              "    .dataframe tbody tr th:only-of-type {\n",
              "        vertical-align: middle;\n",
              "    }\n",
              "\n",
              "    .dataframe tbody tr th {\n",
              "        vertical-align: top;\n",
              "    }\n",
              "\n",
              "    .dataframe thead th {\n",
              "        text-align: right;\n",
              "    }\n",
              "</style>\n",
              "<table border=\"1\" class=\"dataframe\">\n",
              "  <thead>\n",
              "    <tr style=\"text-align: right;\">\n",
              "      <th></th>\n",
              "      <th>uid_sample</th>\n",
              "      <th>text</th>\n",
              "      <th>toxicity</th>\n",
              "      <th>reject</th>\n",
              "      <th>insult</th>\n",
              "      <th>attack</th>\n",
              "    </tr>\n",
              "  </thead>\n",
              "  <tbody>\n",
              "    <tr>\n",
              "      <th>14</th>\n",
              "      <td>1483</td>\n",
              "      <td>Feel good piece. Father And Son Graduate Moreh...</td>\n",
              "      <td>0.044220</td>\n",
              "      <td>0.429806</td>\n",
              "      <td>0.044253</td>\n",
              "      <td>0.012937</td>\n",
              "    </tr>\n",
              "    <tr>\n",
              "      <th>21</th>\n",
              "      <td>1820</td>\n",
              "      <td>It's not JUST about his wife. \"t appears [Just...</td>\n",
              "      <td>0.035003</td>\n",
              "      <td>0.294459</td>\n",
              "      <td>0.010903</td>\n",
              "      <td>0.008331</td>\n",
              "    </tr>\n",
              "    <tr>\n",
              "      <th>6</th>\n",
              "      <td>933</td>\n",
              "      <td>Feelin the love in Pittsburgh! President Trump...</td>\n",
              "      <td>0.249732</td>\n",
              "      <td>0.403855</td>\n",
              "      <td>0.169067</td>\n",
              "      <td>0.161117</td>\n",
              "    </tr>\n",
              "  </tbody>\n",
              "</table>\n",
              "</div>\n",
              "      <button class=\"colab-df-convert\" onclick=\"convertToInteractive('df-9de6ed30-b6b8-41c6-a334-454c611e82e8')\"\n",
              "              title=\"Convert this dataframe to an interactive table.\"\n",
              "              style=\"display:none;\">\n",
              "        \n",
              "  <svg xmlns=\"http://www.w3.org/2000/svg\" height=\"24px\"viewBox=\"0 0 24 24\"\n",
              "       width=\"24px\">\n",
              "    <path d=\"M0 0h24v24H0V0z\" fill=\"none\"/>\n",
              "    <path d=\"M18.56 5.44l.94 2.06.94-2.06 2.06-.94-2.06-.94-.94-2.06-.94 2.06-2.06.94zm-11 1L8.5 8.5l.94-2.06 2.06-.94-2.06-.94L8.5 2.5l-.94 2.06-2.06.94zm10 10l.94 2.06.94-2.06 2.06-.94-2.06-.94-.94-2.06-.94 2.06-2.06.94z\"/><path d=\"M17.41 7.96l-1.37-1.37c-.4-.4-.92-.59-1.43-.59-.52 0-1.04.2-1.43.59L10.3 9.45l-7.72 7.72c-.78.78-.78 2.05 0 2.83L4 21.41c.39.39.9.59 1.41.59.51 0 1.02-.2 1.41-.59l7.78-7.78 2.81-2.81c.8-.78.8-2.07 0-2.86zM5.41 20L4 18.59l7.72-7.72 1.47 1.35L5.41 20z\"/>\n",
              "  </svg>\n",
              "      </button>\n",
              "      \n",
              "  <style>\n",
              "    .colab-df-container {\n",
              "      display:flex;\n",
              "      flex-wrap:wrap;\n",
              "      gap: 12px;\n",
              "    }\n",
              "\n",
              "    .colab-df-convert {\n",
              "      background-color: #E8F0FE;\n",
              "      border: none;\n",
              "      border-radius: 50%;\n",
              "      cursor: pointer;\n",
              "      display: none;\n",
              "      fill: #1967D2;\n",
              "      height: 32px;\n",
              "      padding: 0 0 0 0;\n",
              "      width: 32px;\n",
              "    }\n",
              "\n",
              "    .colab-df-convert:hover {\n",
              "      background-color: #E2EBFA;\n",
              "      box-shadow: 0px 1px 2px rgba(60, 64, 67, 0.3), 0px 1px 3px 1px rgba(60, 64, 67, 0.15);\n",
              "      fill: #174EA6;\n",
              "    }\n",
              "\n",
              "    [theme=dark] .colab-df-convert {\n",
              "      background-color: #3B4455;\n",
              "      fill: #D2E3FC;\n",
              "    }\n",
              "\n",
              "    [theme=dark] .colab-df-convert:hover {\n",
              "      background-color: #434B5C;\n",
              "      box-shadow: 0px 1px 3px 1px rgba(0, 0, 0, 0.15);\n",
              "      filter: drop-shadow(0px 1px 2px rgba(0, 0, 0, 0.3));\n",
              "      fill: #FFFFFF;\n",
              "    }\n",
              "  </style>\n",
              "\n",
              "      <script>\n",
              "        const buttonEl =\n",
              "          document.querySelector('#df-9de6ed30-b6b8-41c6-a334-454c611e82e8 button.colab-df-convert');\n",
              "        buttonEl.style.display =\n",
              "          google.colab.kernel.accessAllowed ? 'block' : 'none';\n",
              "\n",
              "        async function convertToInteractive(key) {\n",
              "          const element = document.querySelector('#df-9de6ed30-b6b8-41c6-a334-454c611e82e8');\n",
              "          const dataTable =\n",
              "            await google.colab.kernel.invokeFunction('convertToInteractive',\n",
              "                                                     [key], {});\n",
              "          if (!dataTable) return;\n",
              "\n",
              "          const docLinkHtml = 'Like what you see? Visit the ' +\n",
              "            '<a target=\"_blank\" href=https://colab.research.google.com/notebooks/data_table.ipynb>data table notebook</a>'\n",
              "            + ' to learn more about interactive tables.';\n",
              "          element.innerHTML = '';\n",
              "          dataTable['output_type'] = 'display_data';\n",
              "          await google.colab.output.renderOutput(dataTable, element);\n",
              "          const docLink = document.createElement('div');\n",
              "          docLink.innerHTML = docLinkHtml;\n",
              "          element.appendChild(docLink);\n",
              "        }\n",
              "      </script>\n",
              "    </div>\n",
              "  </div>\n",
              "  "
            ]
          },
          "metadata": {},
          "execution_count": 47
        }
      ]
    },
    {
      "cell_type": "code",
      "source": [
        "\"\"\"\n",
        "Exporting the results -- Save the data to your Google Drive OR the Colab environment. \n",
        "You can also find your data at the folder icon at the left side and download it.\n",
        "\"\"\"\n",
        "\n",
        "sample_text.to_csv('toxicity.csv')"
      ],
      "metadata": {
        "id": "gu8zYzboAzcL"
      },
      "execution_count": 48,
      "outputs": []
    },
    {
      "cell_type": "code",
      "source": [],
      "metadata": {
        "id": "t3wI5SdlPxVg"
      },
      "execution_count": null,
      "outputs": []
    }
  ]
}