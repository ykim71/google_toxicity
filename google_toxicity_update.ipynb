{
  "nbformat": 4,
  "nbformat_minor": 0,
  "metadata": {
    "colab": {
      "provenance": [],
      "authorship_tag": "ABX9TyPqND0YDqWH4hk2faYDTRRU",
      "include_colab_link": true
    },
    "kernelspec": {
      "name": "python3",
      "display_name": "Python 3"
    },
    "language_info": {
      "name": "python"
    }
  },
  "cells": [
    {
      "cell_type": "markdown",
      "metadata": {
        "id": "view-in-github",
        "colab_type": "text"
      },
      "source": [
        "<a href=\"https://colab.research.google.com/github/ykim71/google_toxicity/blob/main/google_toxicity_update.ipynb\" target=\"_parent\"><img src=\"https://colab.research.google.com/assets/colab-badge.svg\" alt=\"Open In Colab\"/></a>"
      ]
    },
    {
      "cell_type": "markdown",
      "source": [
        "# Load File via GDrive\n",
        "\n"
      ],
      "metadata": {
        "id": "Wpw-Dc2k_QCk"
      }
    },
    {
      "cell_type": "code",
      "source": [
        "\"\"\"\n",
        "Run this code and it will bring your Google account access permission. \n",
        "This gives Colab direct access for any files in your Google Drive.\n",
        "OR, upload file from local\n",
        "\"\"\"\n",
        "from google.colab import drive\n",
        "\n",
        "drive.mount(\"/content/drive\")"
      ],
      "metadata": {
        "colab": {
          "base_uri": "https://localhost:8080/"
        },
        "id": "c4FeFkFk_PvG",
        "outputId": "b6d5bf8e-9026-4fe5-9499-5e6bb1125962"
      },
      "execution_count": null,
      "outputs": [
        {
          "output_type": "stream",
          "name": "stdout",
          "text": [
            "Mounted at /content/drive\n"
          ]
        }
      ]
    },
    {
      "cell_type": "code",
      "source": [
        "\"\"\"\n",
        "This code changes your working directory that Colab is on. I created and set 'toxicity' folder in my Google Drive. \n",
        "I can load and save data on the 'toxicity' folder in my Google Drive\n",
        "\"\"\"\n",
        "%cd drive/'MyDrive'/toxicity/"
      ],
      "metadata": {
        "colab": {
          "base_uri": "https://localhost:8080/"
        },
        "id": "fdkG7ITv_boR",
        "outputId": "e07b4807-55a9-434f-e456-bcf45ee11c4a"
      },
      "execution_count": null,
      "outputs": [
        {
          "output_type": "stream",
          "name": "stdout",
          "text": [
            "/content/drive/MyDrive/toxicity\n"
          ]
        }
      ]
    },
    {
      "cell_type": "markdown",
      "source": [
        "## load your file to Colab"
      ],
      "metadata": {
        "id": "SFAz7fxU3013"
      }
    },
    {
      "cell_type": "code",
      "source": [
        "\"\"\"\n",
        "load your file on Colab using following code. Replace 'sample_code_review.csv' with your file name. \n",
        "I set my data as 'sample_text' so you can replce it other name. \n",
        "\"\"\"\n",
        "\n",
        "import pandas as pd\n",
        "\n",
        "sample_text = pd.read_csv('sample_text.csv') # OR, /content/sample_code_review.csv\n"
      ],
      "metadata": {
        "id": "7S6nYYk0320Y"
      },
      "execution_count": null,
      "outputs": []
    },
    {
      "cell_type": "code",
      "source": [
        "\"\"\"\n",
        "take random 3 samples to see if data has loaded successfully; 'text' is the column that you want to analyze.\n",
        "\"\"\"\n",
        "\n",
        "sample_text.sample(10)"
      ],
      "metadata": {
        "colab": {
          "base_uri": "https://localhost:8080/",
          "height": 363
        },
        "id": "QyQmtC_MRH6G",
        "outputId": "0b85b4a3-d369-4931-d43e-d8abe81cbec0"
      },
      "execution_count": null,
      "outputs": [
        {
          "output_type": "execute_result",
          "data": {
            "text/plain": [
              "      id   case                                               text\n",
              "700  701  11308  IMPORTANT ELECTIONS ARE COMING UP THIS NOVEMBE...\n",
              "597  598   9597  It was wonderful to be with members of the com...\n",
              "4      5     35  More apparent Defunding Police Sentiment bias ...\n",
              "785  786  12749  Prayers for Officer Sepulveda This is a re-sha...\n",
              "351  352   5569  300300 f MAY 4, 2022 INTERNATIONAL FIREFIGHTER...\n",
              "811  812  13121  What an honor to have the endorsement of Gover...\n",
              "360  361   5669  Take her back to the coal mine to be charged. ...\n",
              "795  796  12907  Greg AbbottBiden's inflation is crushing Ameri...\n",
              "337  338   5374  Happy Earth Day! Now more than ever, it’s impo...\n",
              "665  666  10807  I agree w/Sen. Joe Manchin. Biden Administrati..."
            ],
            "text/html": [
              "\n",
              "  <div id=\"df-8484c21e-8a54-4c59-92e1-20d3528aeb5c\">\n",
              "    <div class=\"colab-df-container\">\n",
              "      <div>\n",
              "<style scoped>\n",
              "    .dataframe tbody tr th:only-of-type {\n",
              "        vertical-align: middle;\n",
              "    }\n",
              "\n",
              "    .dataframe tbody tr th {\n",
              "        vertical-align: top;\n",
              "    }\n",
              "\n",
              "    .dataframe thead th {\n",
              "        text-align: right;\n",
              "    }\n",
              "</style>\n",
              "<table border=\"1\" class=\"dataframe\">\n",
              "  <thead>\n",
              "    <tr style=\"text-align: right;\">\n",
              "      <th></th>\n",
              "      <th>id</th>\n",
              "      <th>case</th>\n",
              "      <th>text</th>\n",
              "    </tr>\n",
              "  </thead>\n",
              "  <tbody>\n",
              "    <tr>\n",
              "      <th>700</th>\n",
              "      <td>701</td>\n",
              "      <td>11308</td>\n",
              "      <td>IMPORTANT ELECTIONS ARE COMING UP THIS NOVEMBE...</td>\n",
              "    </tr>\n",
              "    <tr>\n",
              "      <th>597</th>\n",
              "      <td>598</td>\n",
              "      <td>9597</td>\n",
              "      <td>It was wonderful to be with members of the com...</td>\n",
              "    </tr>\n",
              "    <tr>\n",
              "      <th>4</th>\n",
              "      <td>5</td>\n",
              "      <td>35</td>\n",
              "      <td>More apparent Defunding Police Sentiment bias ...</td>\n",
              "    </tr>\n",
              "    <tr>\n",
              "      <th>785</th>\n",
              "      <td>786</td>\n",
              "      <td>12749</td>\n",
              "      <td>Prayers for Officer Sepulveda This is a re-sha...</td>\n",
              "    </tr>\n",
              "    <tr>\n",
              "      <th>351</th>\n",
              "      <td>352</td>\n",
              "      <td>5569</td>\n",
              "      <td>300300 f MAY 4, 2022 INTERNATIONAL FIREFIGHTER...</td>\n",
              "    </tr>\n",
              "    <tr>\n",
              "      <th>811</th>\n",
              "      <td>812</td>\n",
              "      <td>13121</td>\n",
              "      <td>What an honor to have the endorsement of Gover...</td>\n",
              "    </tr>\n",
              "    <tr>\n",
              "      <th>360</th>\n",
              "      <td>361</td>\n",
              "      <td>5669</td>\n",
              "      <td>Take her back to the coal mine to be charged. ...</td>\n",
              "    </tr>\n",
              "    <tr>\n",
              "      <th>795</th>\n",
              "      <td>796</td>\n",
              "      <td>12907</td>\n",
              "      <td>Greg AbbottBiden's inflation is crushing Ameri...</td>\n",
              "    </tr>\n",
              "    <tr>\n",
              "      <th>337</th>\n",
              "      <td>338</td>\n",
              "      <td>5374</td>\n",
              "      <td>Happy Earth Day! Now more than ever, it’s impo...</td>\n",
              "    </tr>\n",
              "    <tr>\n",
              "      <th>665</th>\n",
              "      <td>666</td>\n",
              "      <td>10807</td>\n",
              "      <td>I agree w/Sen. Joe Manchin. Biden Administrati...</td>\n",
              "    </tr>\n",
              "  </tbody>\n",
              "</table>\n",
              "</div>\n",
              "      <button class=\"colab-df-convert\" onclick=\"convertToInteractive('df-8484c21e-8a54-4c59-92e1-20d3528aeb5c')\"\n",
              "              title=\"Convert this dataframe to an interactive table.\"\n",
              "              style=\"display:none;\">\n",
              "        \n",
              "  <svg xmlns=\"http://www.w3.org/2000/svg\" height=\"24px\"viewBox=\"0 0 24 24\"\n",
              "       width=\"24px\">\n",
              "    <path d=\"M0 0h24v24H0V0z\" fill=\"none\"/>\n",
              "    <path d=\"M18.56 5.44l.94 2.06.94-2.06 2.06-.94-2.06-.94-.94-2.06-.94 2.06-2.06.94zm-11 1L8.5 8.5l.94-2.06 2.06-.94-2.06-.94L8.5 2.5l-.94 2.06-2.06.94zm10 10l.94 2.06.94-2.06 2.06-.94-2.06-.94-.94-2.06-.94 2.06-2.06.94z\"/><path d=\"M17.41 7.96l-1.37-1.37c-.4-.4-.92-.59-1.43-.59-.52 0-1.04.2-1.43.59L10.3 9.45l-7.72 7.72c-.78.78-.78 2.05 0 2.83L4 21.41c.39.39.9.59 1.41.59.51 0 1.02-.2 1.41-.59l7.78-7.78 2.81-2.81c.8-.78.8-2.07 0-2.86zM5.41 20L4 18.59l7.72-7.72 1.47 1.35L5.41 20z\"/>\n",
              "  </svg>\n",
              "      </button>\n",
              "      \n",
              "  <style>\n",
              "    .colab-df-container {\n",
              "      display:flex;\n",
              "      flex-wrap:wrap;\n",
              "      gap: 12px;\n",
              "    }\n",
              "\n",
              "    .colab-df-convert {\n",
              "      background-color: #E8F0FE;\n",
              "      border: none;\n",
              "      border-radius: 50%;\n",
              "      cursor: pointer;\n",
              "      display: none;\n",
              "      fill: #1967D2;\n",
              "      height: 32px;\n",
              "      padding: 0 0 0 0;\n",
              "      width: 32px;\n",
              "    }\n",
              "\n",
              "    .colab-df-convert:hover {\n",
              "      background-color: #E2EBFA;\n",
              "      box-shadow: 0px 1px 2px rgba(60, 64, 67, 0.3), 0px 1px 3px 1px rgba(60, 64, 67, 0.15);\n",
              "      fill: #174EA6;\n",
              "    }\n",
              "\n",
              "    [theme=dark] .colab-df-convert {\n",
              "      background-color: #3B4455;\n",
              "      fill: #D2E3FC;\n",
              "    }\n",
              "\n",
              "    [theme=dark] .colab-df-convert:hover {\n",
              "      background-color: #434B5C;\n",
              "      box-shadow: 0px 1px 3px 1px rgba(0, 0, 0, 0.15);\n",
              "      filter: drop-shadow(0px 1px 2px rgba(0, 0, 0, 0.3));\n",
              "      fill: #FFFFFF;\n",
              "    }\n",
              "  </style>\n",
              "\n",
              "      <script>\n",
              "        const buttonEl =\n",
              "          document.querySelector('#df-8484c21e-8a54-4c59-92e1-20d3528aeb5c button.colab-df-convert');\n",
              "        buttonEl.style.display =\n",
              "          google.colab.kernel.accessAllowed ? 'block' : 'none';\n",
              "\n",
              "        async function convertToInteractive(key) {\n",
              "          const element = document.querySelector('#df-8484c21e-8a54-4c59-92e1-20d3528aeb5c');\n",
              "          const dataTable =\n",
              "            await google.colab.kernel.invokeFunction('convertToInteractive',\n",
              "                                                     [key], {});\n",
              "          if (!dataTable) return;\n",
              "\n",
              "          const docLinkHtml = 'Like what you see? Visit the ' +\n",
              "            '<a target=\"_blank\" href=https://colab.research.google.com/notebooks/data_table.ipynb>data table notebook</a>'\n",
              "            + ' to learn more about interactive tables.';\n",
              "          element.innerHTML = '';\n",
              "          dataTable['output_type'] = 'display_data';\n",
              "          await google.colab.output.renderOutput(dataTable, element);\n",
              "          const docLink = document.createElement('div');\n",
              "          docLink.innerHTML = docLinkHtml;\n",
              "          element.appendChild(docLink);\n",
              "        }\n",
              "      </script>\n",
              "    </div>\n",
              "  </div>\n",
              "  "
            ]
          },
          "metadata": {},
          "execution_count": 46
        }
      ]
    },
    {
      "cell_type": "markdown",
      "source": [
        "# Perpective API toxicity \n",
        "\n",
        "\n",
        "\n",
        "> Language Attributes: https://developers.perspectiveapi.com/s/about-the-api-attributes-and-languages\n",
        "\n",
        "\n",
        "\n",
        "> API Request: https://developers.perspectiveapi.com/s/docs-get-started (note UT Google Account may not work; recommend using personal Google account for request)\n",
        "\n"
      ],
      "metadata": {
        "id": "LCfdQi8w9whT"
      }
    },
    {
      "cell_type": "code",
      "execution_count": null,
      "metadata": {
        "id": "Uf-Tz2kX8vXb"
      },
      "outputs": [],
      "source": [
        "\"\"\"\n",
        "load packages/libraries\n",
        "\"\"\"\n",
        "from googleapiclient import discovery\n",
        "from googleapiclient.errors import HttpError\n"
      ]
    },
    {
      "cell_type": "code",
      "source": [
        "\"\"\"\n",
        "Enter your API here;\n",
        "\"\"\"\n",
        "API_KEY='your-api-key'\n"
      ],
      "metadata": {
        "id": "Bwd15Ba5812-"
      },
      "execution_count": null,
      "outputs": []
    },
    {
      "cell_type": "code",
      "source": [
        "\"\"\"\n",
        "Run this code if you want to analyze text data 4 measures of Toxicity, Likely to reject, Insult, and Identity Attact. \n",
        "See below comments for other variables and descriptions in detail.\n",
        "\n",
        "\"\"\"\n",
        "# variable descriptions: https://github.com/conversationai/perspectiveapi\n",
        "# you can replace toxicity attributes here:\n",
        "analyze_request = {\n",
        "   'comment': { 'text': 'xx'}, # setting formats (id, text)\n",
        "   'requestedAttributes': {'TOXICITY@6': {}, # see the actual variable name from the Perspective API page\n",
        "                           'LIKELY_TO_REJECT@2': {}, \n",
        "                           'INSULT': {}, \n",
        "                           'IDENTITY_ATTACK': {} \n",
        "                           },\n",
        "   'doNotStore': True, # for other settings, https://developers.perspectiveapi.com/s/about-the-api-methods\n",
        "   'languages' : 'en'\n",
        "}\n",
        "\n"
      ],
      "metadata": {
        "id": "FVMN-CHJ8-Yx"
      },
      "execution_count": null,
      "outputs": []
    },
    {
      "cell_type": "code",
      "source": [
        "# for a single text\n",
        "import json\n",
        "\n",
        "def incivility_measures(text):\n",
        "  \n",
        "  service = discovery.build(\n",
        "  \"commentanalyzer\",\n",
        "  \"v1alpha1\",\n",
        "  developerKey=API_KEY,\n",
        "  discoveryServiceUrl=\"https://commentanalyzer.googleapis.com/$discovery/rest?version=v1alpha1\",\n",
        "  static_discovery=False,)\n",
        "  \n",
        "  analyze_request['comment']['text'] = text\n",
        "  \n",
        "  response = service.comments().analyze(body=analyze_request).execute()\n",
        "  i = json.loads(json.dumps(response, indent=2))\n",
        "  \n",
        "  toxicity = i['attributeScores']['TOXICITY@6']['summaryScore']['value']\n",
        "  reject = i['attributeScores']['LIKELY_TO_REJECT@2']['summaryScore']['value']\n",
        "  insult = i['attributeScores']['INSULT']['summaryScore']['value']\n",
        "  identity = i['attributeScores']['IDENTITY_ATTACK']['summaryScore']['value']\n",
        "  \n",
        "  print(\"text:\" + text + \"\\ntoxicity:\" + str(toxicity) + \"\\nreject:\" + str(reject) + \"\\ninsult:\" + str(insult) + \"\\nidentity:\" + str(identity))\n"
      ],
      "metadata": {
        "id": "q0jj1bcfPt95"
      },
      "execution_count": null,
      "outputs": []
    },
    {
      "cell_type": "code",
      "source": [
        "\n",
        "text = 'To all those thinking about voting for Trump, remember...  IN YOUR HEART... YOU KNOW HE\\'S SHIT'\n",
        "incivility_measures(text)\n",
        "\n",
        "text = sample_text.text[1]\n",
        "incivility_measures(text)\n"
      ],
      "metadata": {
        "colab": {
          "base_uri": "https://localhost:8080/"
        },
        "id": "nxi-_Z8INQ-L",
        "outputId": "42eb1ebe-df01-4f5b-d826-fa2fa50c4e48"
      },
      "execution_count": null,
      "outputs": [
        {
          "output_type": "stream",
          "name": "stdout",
          "text": [
            "text:Just Say No To Woke: ‘Top Gun: Maverick’ Crushing Box Office With Pro-America Messaging Is A Wake-Up Call For Hollywood.\n",
            "toxicity:0.2062748\n",
            "reject:0.4401471\n",
            "insult:0.02567133\n",
            "identity:0.009175468\n"
          ]
        }
      ]
    },
    {
      "cell_type": "code",
      "source": [
        "\"\"\"\n",
        "For large text: \n",
        "assign your column name (that contain text data you want to analyze) in the code\n",
        "\"\"\"\n",
        "import csv\n",
        "import codecs\n",
        "import json\n",
        "import time\n",
        "import pandas as pd\n",
        "\n",
        "# setting attributes, can add more attiributes \n",
        "\n",
        "service = discovery.build(\n",
        "  \"commentanalyzer\",\n",
        "  \"v1alpha1\",\n",
        "  developerKey=API_KEY,\n",
        "  discoveryServiceUrl=\"https://commentanalyzer.googleapis.com/$discovery/rest?version=v1alpha1\",\n",
        "  static_discovery=False,\n",
        ")\n",
        "\n",
        "start = time.time()\n",
        "\n",
        "comments_toxicity_list = []\n",
        "comments_reject_list = []\n",
        "comments_insult_list = []\n",
        "comments_identity_list = []\n",
        "\n",
        "\"\"\"\n",
        "HERE is the code you need to chage. My data file name is 'sample_text' and the column name is 'text'. \n",
        "You can change your file and the text column name here.  \n",
        "For other example, if your data name is 'df' and the text columne name is 'comment', \n",
        "the first line of following code is supposed to be:\n",
        "\n",
        "for i in df.comment.values.tolist(): \n",
        "\n",
        "Once you change this code, run this code block.\n",
        "\"\"\"\n",
        "\n",
        "for i in sample_text.text.values.tolist(): \n",
        "  analyze_request['comment']['text'] = i\n",
        "  \n",
        "  try:\n",
        "    response = service.comments().analyze(body=analyze_request).execute()\n",
        "    i = json.loads(json.dumps(response, indent=2))\n",
        "    \n",
        "    comments_toxicity = i['attributeScores']['TOXICITY@6']['summaryScore']['value']\n",
        "    comments_reject = i['attributeScores']['LIKELY_TO_REJECT@2']['summaryScore']['value']\n",
        "    comments_insult = i['attributeScores']['INSULT']['summaryScore']['value']\n",
        "    comments_identity = i['attributeScores']['IDENTITY_ATTACK']['summaryScore']['value']\n",
        "        \n",
        "  except HttpError:\n",
        "    comments_toxicity = \"error\"\n",
        "    comments_reject = \"error\"\n",
        "    comments_insult = \"error\"\n",
        "    comments_identity = \"error\"\n",
        "            \n",
        "  comments_toxicity_list.append(comments_toxicity)\n",
        "  comments_reject_list.append(comments_reject)\n",
        "  comments_insult_list.append(comments_insult)\n",
        "  comments_identity_list.append(comments_identity)\n",
        "        \n",
        "sample_text = sample_text.join(pd.DataFrame({'toxicity': comments_toxicity_list, \n",
        "                                             'reject': comments_reject_list, \n",
        "                                             'insult': comments_insult_list, \n",
        "                                             'attack': comments_identity_list}))\n",
        "\n",
        "end=time.time()\n",
        "print(\"complete time: \", round(end -start, 2))"
      ],
      "metadata": {
        "colab": {
          "base_uri": "https://localhost:8080/"
        },
        "id": "TxhiPuZV_GqW",
        "outputId": "2aa9dcc2-63a5-40c2-9f22-814d6b9ee176"
      },
      "execution_count": null,
      "outputs": [
        {
          "output_type": "stream",
          "name": "stdout",
          "text": [
            "complete time:  105.71\n"
          ]
        }
      ]
    },
    {
      "cell_type": "code",
      "source": [
        "\"\"\"\n",
        "take random the first 10 text to see if data has computed successfully;\n",
        "\"\"\"\n",
        "sample_text[0:9]"
      ],
      "metadata": {
        "id": "6NZUPkTYvlLs",
        "outputId": "fc843ef4-5926-42da-f4a1-2403f65b566c",
        "colab": {
          "base_uri": "https://localhost:8080/",
          "height": 143
        }
      },
      "execution_count": null,
      "outputs": [
        {
          "output_type": "execute_result",
          "data": {
            "text/plain": [
              "      id  case                                               text  toxicity  \\\n",
              "496  497  8035  The meeting below has been about 24-30 months ...     error   \n",
              "318  319  5010  My mother grew up attending segregated schools...     error   \n",
              "83    84  1000  Biden and his administration have shown a will...  0.263445   \n",
              "\n",
              "       reject    insult    attack  \n",
              "496     error     error     error  \n",
              "318     error     error     error  \n",
              "83   0.293414  0.022771  0.008768  "
            ],
            "text/html": [
              "\n",
              "  <div id=\"df-c3a093be-ed8f-4703-ad08-4715036c58dc\">\n",
              "    <div class=\"colab-df-container\">\n",
              "      <div>\n",
              "<style scoped>\n",
              "    .dataframe tbody tr th:only-of-type {\n",
              "        vertical-align: middle;\n",
              "    }\n",
              "\n",
              "    .dataframe tbody tr th {\n",
              "        vertical-align: top;\n",
              "    }\n",
              "\n",
              "    .dataframe thead th {\n",
              "        text-align: right;\n",
              "    }\n",
              "</style>\n",
              "<table border=\"1\" class=\"dataframe\">\n",
              "  <thead>\n",
              "    <tr style=\"text-align: right;\">\n",
              "      <th></th>\n",
              "      <th>id</th>\n",
              "      <th>case</th>\n",
              "      <th>text</th>\n",
              "      <th>toxicity</th>\n",
              "      <th>reject</th>\n",
              "      <th>insult</th>\n",
              "      <th>attack</th>\n",
              "    </tr>\n",
              "  </thead>\n",
              "  <tbody>\n",
              "    <tr>\n",
              "      <th>496</th>\n",
              "      <td>497</td>\n",
              "      <td>8035</td>\n",
              "      <td>The meeting below has been about 24-30 months ...</td>\n",
              "      <td>error</td>\n",
              "      <td>error</td>\n",
              "      <td>error</td>\n",
              "      <td>error</td>\n",
              "    </tr>\n",
              "    <tr>\n",
              "      <th>318</th>\n",
              "      <td>319</td>\n",
              "      <td>5010</td>\n",
              "      <td>My mother grew up attending segregated schools...</td>\n",
              "      <td>error</td>\n",
              "      <td>error</td>\n",
              "      <td>error</td>\n",
              "      <td>error</td>\n",
              "    </tr>\n",
              "    <tr>\n",
              "      <th>83</th>\n",
              "      <td>84</td>\n",
              "      <td>1000</td>\n",
              "      <td>Biden and his administration have shown a will...</td>\n",
              "      <td>0.263445</td>\n",
              "      <td>0.293414</td>\n",
              "      <td>0.022771</td>\n",
              "      <td>0.008768</td>\n",
              "    </tr>\n",
              "  </tbody>\n",
              "</table>\n",
              "</div>\n",
              "      <button class=\"colab-df-convert\" onclick=\"convertToInteractive('df-c3a093be-ed8f-4703-ad08-4715036c58dc')\"\n",
              "              title=\"Convert this dataframe to an interactive table.\"\n",
              "              style=\"display:none;\">\n",
              "        \n",
              "  <svg xmlns=\"http://www.w3.org/2000/svg\" height=\"24px\"viewBox=\"0 0 24 24\"\n",
              "       width=\"24px\">\n",
              "    <path d=\"M0 0h24v24H0V0z\" fill=\"none\"/>\n",
              "    <path d=\"M18.56 5.44l.94 2.06.94-2.06 2.06-.94-2.06-.94-.94-2.06-.94 2.06-2.06.94zm-11 1L8.5 8.5l.94-2.06 2.06-.94-2.06-.94L8.5 2.5l-.94 2.06-2.06.94zm10 10l.94 2.06.94-2.06 2.06-.94-2.06-.94-.94-2.06-.94 2.06-2.06.94z\"/><path d=\"M17.41 7.96l-1.37-1.37c-.4-.4-.92-.59-1.43-.59-.52 0-1.04.2-1.43.59L10.3 9.45l-7.72 7.72c-.78.78-.78 2.05 0 2.83L4 21.41c.39.39.9.59 1.41.59.51 0 1.02-.2 1.41-.59l7.78-7.78 2.81-2.81c.8-.78.8-2.07 0-2.86zM5.41 20L4 18.59l7.72-7.72 1.47 1.35L5.41 20z\"/>\n",
              "  </svg>\n",
              "      </button>\n",
              "      \n",
              "  <style>\n",
              "    .colab-df-container {\n",
              "      display:flex;\n",
              "      flex-wrap:wrap;\n",
              "      gap: 12px;\n",
              "    }\n",
              "\n",
              "    .colab-df-convert {\n",
              "      background-color: #E8F0FE;\n",
              "      border: none;\n",
              "      border-radius: 50%;\n",
              "      cursor: pointer;\n",
              "      display: none;\n",
              "      fill: #1967D2;\n",
              "      height: 32px;\n",
              "      padding: 0 0 0 0;\n",
              "      width: 32px;\n",
              "    }\n",
              "\n",
              "    .colab-df-convert:hover {\n",
              "      background-color: #E2EBFA;\n",
              "      box-shadow: 0px 1px 2px rgba(60, 64, 67, 0.3), 0px 1px 3px 1px rgba(60, 64, 67, 0.15);\n",
              "      fill: #174EA6;\n",
              "    }\n",
              "\n",
              "    [theme=dark] .colab-df-convert {\n",
              "      background-color: #3B4455;\n",
              "      fill: #D2E3FC;\n",
              "    }\n",
              "\n",
              "    [theme=dark] .colab-df-convert:hover {\n",
              "      background-color: #434B5C;\n",
              "      box-shadow: 0px 1px 3px 1px rgba(0, 0, 0, 0.15);\n",
              "      filter: drop-shadow(0px 1px 2px rgba(0, 0, 0, 0.3));\n",
              "      fill: #FFFFFF;\n",
              "    }\n",
              "  </style>\n",
              "\n",
              "      <script>\n",
              "        const buttonEl =\n",
              "          document.querySelector('#df-c3a093be-ed8f-4703-ad08-4715036c58dc button.colab-df-convert');\n",
              "        buttonEl.style.display =\n",
              "          google.colab.kernel.accessAllowed ? 'block' : 'none';\n",
              "\n",
              "        async function convertToInteractive(key) {\n",
              "          const element = document.querySelector('#df-c3a093be-ed8f-4703-ad08-4715036c58dc');\n",
              "          const dataTable =\n",
              "            await google.colab.kernel.invokeFunction('convertToInteractive',\n",
              "                                                     [key], {});\n",
              "          if (!dataTable) return;\n",
              "\n",
              "          const docLinkHtml = 'Like what you see? Visit the ' +\n",
              "            '<a target=\"_blank\" href=https://colab.research.google.com/notebooks/data_table.ipynb>data table notebook</a>'\n",
              "            + ' to learn more about interactive tables.';\n",
              "          element.innerHTML = '';\n",
              "          dataTable['output_type'] = 'display_data';\n",
              "          await google.colab.output.renderOutput(dataTable, element);\n",
              "          const docLink = document.createElement('div');\n",
              "          docLink.innerHTML = docLinkHtml;\n",
              "          element.appendChild(docLink);\n",
              "        }\n",
              "      </script>\n",
              "    </div>\n",
              "  </div>\n",
              "  "
            ]
          },
          "metadata": {},
          "execution_count": 44
        }
      ]
    },
    {
      "cell_type": "code",
      "source": [
        "\"\"\"\n",
        "Exporting the results -- Save the data to your Google Drive OR the Colab environment. \n",
        "You can also find your data at the folder icon at the left side and download it.\n",
        "\"\"\"\n",
        "\n",
        "sample_text.to_csv('toxicity.csv')"
      ],
      "metadata": {
        "id": "gu8zYzboAzcL"
      },
      "execution_count": null,
      "outputs": []
    },
    {
      "cell_type": "code",
      "source": [],
      "metadata": {
        "id": "t3wI5SdlPxVg"
      },
      "execution_count": null,
      "outputs": []
    }
  ]
}